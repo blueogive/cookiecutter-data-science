{
 "cells": [
  {
   "cell_type": "raw",
   "metadata": {},
   "source": [
    "<script>\n",
    "jQuery(document).ready(function($) {\n",
    "\n",
    "$(window).load(function(){\n",
    "$('#preloader').fadeOut('slow',function(){$(this).remove();});\n",
    "});\n",
    "\n",
    "});\n",
    "</script>\n",
    "\n",
    "<style type=\"text/css\">\n",
    "div#preloader { position: fixed;\n",
    "left: 0;\n",
    "top: 0;\n",
    "z-index: 999;\n",
    "width: 100%;\n",
    "height: 100%;\n",
    "overflow: visible;\n",
    "background: #fff url('http://preloaders.net/preloaders/720/Moving%20line.gif') no-repeat center center;\n",
    "}\n",
    "\n",
    "</style>\n",
    "\n",
    "<div id=\"preloader\"></div>"
   ]
  },
  {
   "cell_type": "raw",
   "metadata": {},
   "source": [
    "<script>\n",
    "function code_toggle() {\n",
    "if (code_shown){\n",
    "$('div.input').hide('500');\n",
    "$('#toggleButton').val('Show Code')\n",
    "} else {\n",
    "$('div.input').show('500');\n",
    "$('#toggleButton').val('Hide Code')\n",
    "}\n",
    "code_shown = !code_shown\n",
    "}\n",
    "\n",
    "$( document ).ready(function(){\n",
    "code_shown=false;\n",
    "$('div.input').hide()\n",
    "});\n",
    "</script>\n",
    "<form action=\"javascript:code_toggle()\"><input type=\"submit\" id=\"toggleButton\" value=\"Show Code\">\n",
    "</form>"
   ]
  },
  {
   "cell_type": "raw",
   "metadata": {},
   "source": [
    "<style type=\"text/css\">\n",
    "p.tightontop {\n",
    "  margin-top: 0px;\n",
    "  padding-top: 0px;\n",
    "  width: 100%;\n",
    "}\n",
    "\n",
    "img.rescale {\n",
    "  width: 100%;\n",
    "  height: auto;\n",
    "}\n",
    "</style>\n",
    "\n",
    "<div class=\"page-header tightontop\">\n",
    "<div class=\"row tightontop\">\n",
    "  <div class=\"col-sm-12 col-md-12 col-lg-12\">\n",
    "  <img class=\"img-responsive rescale\" src=\"img/masthead.jpg\" alt=\"masthead\"></img>\n",
    "  </div> <!-- /col-sm-12 -->\n",
    "</div> <!-- /row -->\n",
    "<div class=\"row\">\n",
    "  <div class=\"col-sm-4 col-md-4 col-lg-4\">\n",
    "  <p class=\"text-left tightontop\">\n",
    "  John Smith, Analyst\n",
    "  </p>\n",
    "  </div> <!-- /col-sm-4 -->\n",
    "  <div class=\"col-sm-4 col-md-4 col-lg-4\">\n",
    "  <p class=\"text-center tightontop\">\n",
    "  Example, Inc.\n",
    "  </p>\n",
    "  </div> <!-- /col-sm-? -->\n",
    "  <div class=\"col-sm-4 col-md-4 col-lg-4\">\n",
    "  <p class=\"text-right tightontop\">\n",
    "  MMMMMM DD, YYYY\n",
    "  </p>\n",
    "  </div> <!-- /col-sm-4 -->\n",
    "</div> <!-- /row -->\n",
    "</div> <!-- /page-header -->"
   ]
  },
  {
   "cell_type": "code",
   "execution_count": null,
   "metadata": {},
   "outputs": [],
   "source": [
    "import datetime\n",
    "import folium\n",
    "import os\n",
    "import numpy as np\n",
    "import pandas as pd\n",
    "import seaborn as sns\n",
    "import sqlalchemy as sa\n",
    "import matplotlib.pyplot as plt\n",
    "from src.pyncrypt import KeyStore\n",
    "%matplotlib inline"
   ]
  },
  {
   "cell_type": "code",
   "execution_count": null,
   "metadata": {
    "collapsed": true
   },
   "outputs": [],
   "source": [
    "# Instantiate encrypted key-value vault\n",
    "VLT = KeyStore()  # insert a string argument to make the vault reusable across sessions\n",
    "VLT.require('user')"
   ]
  },
  {
   "cell_type": "code",
   "execution_count": null,
   "metadata": {
    "collapsed": true
   },
   "outputs": [],
   "source": [
    "# Utility formatting functions\n",
    "def formatpct(val, digits=1):\n",
    "    val *= 10 ** 2\n",
    "    return '{val:.{dig}f}%'.format(dig=digits, val=val)\n",
    "\n",
    "def formatint(val):\n",
    "    return '{val:0,d}'.format(val=val)\n"
   ]
  },
  {
   "cell_type": "code",
   "execution_count": null,
   "metadata": {
    "collapsed": true
   },
   "outputs": [],
   "source": [
    "# Establish database connections\n",
    "dbconn = sa.create_engine(\"postgresql+psycopg2://user:password@/dbname\")"
   ]
  },
  {
   "cell_type": "raw",
   "metadata": {},
   "source": [
    "<script>\n",
    "$(document).ready(function(){\n",
    "$('div.prompt').hide();\n",
    "$('div.back-to-top').hide();\n",
    "$('nav#menubar').hide();\n",
    "$('.breadcrumb').hide();\n",
    "$('.hidden-print').hide();\n",
    "});\n",
    "</script>\n",
    "\n",
    "<footer id=\"attribution\" style=\"float:right; color:#999; background:#fff;\">\n",
    "Questions or concerns: <a href=\"mailto:example@example.com\">example@example.com</a>\n",
    "</footer>"
   ]
  }
 ],
 "metadata": {
  "kernelspec": {
   "display_name": "Python 3",
   "language": "python",
   "name": "python3"
  },
  "language_info": {
   "codemirror_mode": {
    "name": "ipython",
    "version": 3
   },
   "file_extension": ".py",
   "mimetype": "text/x-python",
   "name": "python",
   "nbconvert_exporter": "python",
   "pygments_lexer": "ipython3",
   "version": "3.6.1"
  }
 },
 "nbformat": 4,
 "nbformat_minor": 1
}
